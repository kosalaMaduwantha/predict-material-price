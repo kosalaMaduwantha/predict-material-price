{
 "cells": [
  {
   "cell_type": "code",
   "execution_count": 3,
   "id": "746cffce",
   "metadata": {},
   "outputs": [
    {
     "name": "stdout",
     "output_type": "stream",
     "text": [
      "Requirement already satisfied: asttokens==3.0.0 in /home/kosala/git-repos/predict-material-prices/env/lib64/python3.13/site-packages (from -r ../../../requirements.txt (line 1)) (3.0.0)\n",
      "Requirement already satisfied: attrs==25.3.0 in /home/kosala/git-repos/predict-material-prices/env/lib64/python3.13/site-packages (from -r ../../../requirements.txt (line 2)) (25.3.0)\n",
      "Requirement already satisfied: cmdstanpy==1.2.5 in /home/kosala/git-repos/predict-material-prices/env/lib64/python3.13/site-packages (from -r ../../../requirements.txt (line 3)) (1.2.5)\n",
      "Requirement already satisfied: comm==0.2.2 in /home/kosala/git-repos/predict-material-prices/env/lib64/python3.13/site-packages (from -r ../../../requirements.txt (line 4)) (0.2.2)\n",
      "Requirement already satisfied: contourpy==1.3.2 in /home/kosala/git-repos/predict-material-prices/env/lib64/python3.13/site-packages (from -r ../../../requirements.txt (line 5)) (1.3.2)\n",
      "Requirement already satisfied: cycler==0.12.1 in /home/kosala/git-repos/predict-material-prices/env/lib64/python3.13/site-packages (from -r ../../../requirements.txt (line 6)) (0.12.1)\n",
      "Requirement already satisfied: debugpy==1.8.14 in /home/kosala/git-repos/predict-material-prices/env/lib64/python3.13/site-packages (from -r ../../../requirements.txt (line 7)) (1.8.14)\n",
      "Requirement already satisfied: decorator==5.2.1 in /home/kosala/git-repos/predict-material-prices/env/lib64/python3.13/site-packages (from -r ../../../requirements.txt (line 8)) (5.2.1)\n",
      "Requirement already satisfied: executing==2.2.0 in /home/kosala/git-repos/predict-material-prices/env/lib64/python3.13/site-packages (from -r ../../../requirements.txt (line 9)) (2.2.0)\n",
      "Requirement already satisfied: fastjsonschema==2.21.1 in /home/kosala/git-repos/predict-material-prices/env/lib64/python3.13/site-packages (from -r ../../../requirements.txt (line 10)) (2.21.1)\n",
      "Requirement already satisfied: fonttools==4.58.2 in /home/kosala/git-repos/predict-material-prices/env/lib64/python3.13/site-packages (from -r ../../../requirements.txt (line 11)) (4.58.2)\n",
      "Requirement already satisfied: holidays==0.74 in /home/kosala/git-repos/predict-material-prices/env/lib64/python3.13/site-packages (from -r ../../../requirements.txt (line 12)) (0.74)\n",
      "Requirement already satisfied: importlib_resources==6.5.2 in /home/kosala/git-repos/predict-material-prices/env/lib64/python3.13/site-packages (from -r ../../../requirements.txt (line 13)) (6.5.2)\n",
      "Requirement already satisfied: ipykernel==6.29.5 in /home/kosala/git-repos/predict-material-prices/env/lib64/python3.13/site-packages (from -r ../../../requirements.txt (line 14)) (6.29.5)\n",
      "Requirement already satisfied: ipython==9.3.0 in /home/kosala/git-repos/predict-material-prices/env/lib64/python3.13/site-packages (from -r ../../../requirements.txt (line 15)) (9.3.0)\n",
      "Requirement already satisfied: ipython_pygments_lexers==1.1.1 in /home/kosala/git-repos/predict-material-prices/env/lib64/python3.13/site-packages (from -r ../../../requirements.txt (line 16)) (1.1.1)\n",
      "Requirement already satisfied: jedi==0.19.2 in /home/kosala/git-repos/predict-material-prices/env/lib64/python3.13/site-packages (from -r ../../../requirements.txt (line 17)) (0.19.2)\n",
      "Requirement already satisfied: joblib==1.5.1 in /home/kosala/git-repos/predict-material-prices/env/lib64/python3.13/site-packages (from -r ../../../requirements.txt (line 18)) (1.5.1)\n",
      "Requirement already satisfied: jsonschema==4.24.0 in /home/kosala/git-repos/predict-material-prices/env/lib64/python3.13/site-packages (from -r ../../../requirements.txt (line 19)) (4.24.0)\n",
      "Requirement already satisfied: jsonschema-specifications==2025.4.1 in /home/kosala/git-repos/predict-material-prices/env/lib64/python3.13/site-packages (from -r ../../../requirements.txt (line 20)) (2025.4.1)\n",
      "Requirement already satisfied: jupyter_client==8.6.3 in /home/kosala/git-repos/predict-material-prices/env/lib64/python3.13/site-packages (from -r ../../../requirements.txt (line 21)) (8.6.3)\n",
      "Requirement already satisfied: jupyter_core==5.8.1 in /home/kosala/git-repos/predict-material-prices/env/lib64/python3.13/site-packages (from -r ../../../requirements.txt (line 22)) (5.8.1)\n",
      "Requirement already satisfied: kiwisolver==1.4.8 in /home/kosala/git-repos/predict-material-prices/env/lib64/python3.13/site-packages (from -r ../../../requirements.txt (line 23)) (1.4.8)\n",
      "Requirement already satisfied: matplotlib==3.10.3 in /home/kosala/git-repos/predict-material-prices/env/lib64/python3.13/site-packages (from -r ../../../requirements.txt (line 24)) (3.10.3)\n",
      "Requirement already satisfied: matplotlib-inline==0.1.7 in /home/kosala/git-repos/predict-material-prices/env/lib64/python3.13/site-packages (from -r ../../../requirements.txt (line 25)) (0.1.7)\n",
      "Requirement already satisfied: narwhals==1.42.0 in /home/kosala/git-repos/predict-material-prices/env/lib64/python3.13/site-packages (from -r ../../../requirements.txt (line 26)) (1.42.0)\n",
      "Requirement already satisfied: nbclient==0.10.2 in /home/kosala/git-repos/predict-material-prices/env/lib64/python3.13/site-packages (from -r ../../../requirements.txt (line 27)) (0.10.2)\n",
      "Requirement already satisfied: nbformat==5.10.4 in /home/kosala/git-repos/predict-material-prices/env/lib64/python3.13/site-packages (from -r ../../../requirements.txt (line 28)) (5.10.4)\n",
      "Requirement already satisfied: nest-asyncio==1.6.0 in /home/kosala/git-repos/predict-material-prices/env/lib64/python3.13/site-packages (from -r ../../../requirements.txt (line 29)) (1.6.0)\n",
      "Requirement already satisfied: numpy==2.3.0 in /home/kosala/git-repos/predict-material-prices/env/lib64/python3.13/site-packages (from -r ../../../requirements.txt (line 30)) (2.3.0)\n",
      "Requirement already satisfied: packaging==25.0 in /home/kosala/git-repos/predict-material-prices/env/lib64/python3.13/site-packages (from -r ../../../requirements.txt (line 31)) (25.0)\n",
      "Requirement already satisfied: pandas==2.3.0 in /home/kosala/git-repos/predict-material-prices/env/lib64/python3.13/site-packages (from -r ../../../requirements.txt (line 32)) (2.3.0)\n",
      "Requirement already satisfied: parso==0.8.4 in /home/kosala/git-repos/predict-material-prices/env/lib64/python3.13/site-packages (from -r ../../../requirements.txt (line 33)) (0.8.4)\n",
      "Requirement already satisfied: patsy==1.0.1 in /home/kosala/git-repos/predict-material-prices/env/lib64/python3.13/site-packages (from -r ../../../requirements.txt (line 34)) (1.0.1)\n",
      "Requirement already satisfied: pexpect==4.9.0 in /home/kosala/git-repos/predict-material-prices/env/lib64/python3.13/site-packages (from -r ../../../requirements.txt (line 35)) (4.9.0)\n",
      "Requirement already satisfied: pillow==11.2.1 in /home/kosala/git-repos/predict-material-prices/env/lib64/python3.13/site-packages (from -r ../../../requirements.txt (line 36)) (11.2.1)\n",
      "Requirement already satisfied: platformdirs==4.3.8 in /home/kosala/git-repos/predict-material-prices/env/lib64/python3.13/site-packages (from -r ../../../requirements.txt (line 37)) (4.3.8)\n",
      "Requirement already satisfied: plotly==6.1.2 in /home/kosala/git-repos/predict-material-prices/env/lib64/python3.13/site-packages (from -r ../../../requirements.txt (line 38)) (6.1.2)\n",
      "Requirement already satisfied: prompt_toolkit==3.0.51 in /home/kosala/git-repos/predict-material-prices/env/lib64/python3.13/site-packages (from -r ../../../requirements.txt (line 39)) (3.0.51)\n",
      "Requirement already satisfied: prophet==1.1.7 in /home/kosala/git-repos/predict-material-prices/env/lib64/python3.13/site-packages (from -r ../../../requirements.txt (line 40)) (1.1.7)\n",
      "Requirement already satisfied: psutil==7.0.0 in /home/kosala/git-repos/predict-material-prices/env/lib64/python3.13/site-packages (from -r ../../../requirements.txt (line 41)) (7.0.0)\n",
      "Requirement already satisfied: ptyprocess==0.7.0 in /home/kosala/git-repos/predict-material-prices/env/lib64/python3.13/site-packages (from -r ../../../requirements.txt (line 42)) (0.7.0)\n",
      "Requirement already satisfied: pure_eval==0.2.3 in /home/kosala/git-repos/predict-material-prices/env/lib64/python3.13/site-packages (from -r ../../../requirements.txt (line 43)) (0.2.3)\n",
      "Requirement already satisfied: Pygments==2.19.1 in /home/kosala/git-repos/predict-material-prices/env/lib64/python3.13/site-packages (from -r ../../../requirements.txt (line 44)) (2.19.1)\n",
      "Requirement already satisfied: pyparsing==3.2.3 in /home/kosala/git-repos/predict-material-prices/env/lib64/python3.13/site-packages (from -r ../../../requirements.txt (line 45)) (3.2.3)\n",
      "Requirement already satisfied: python-dateutil==2.9.0.post0 in /home/kosala/git-repos/predict-material-prices/env/lib64/python3.13/site-packages (from -r ../../../requirements.txt (line 46)) (2.9.0.post0)\n",
      "Requirement already satisfied: pytz==2025.2 in /home/kosala/git-repos/predict-material-prices/env/lib64/python3.13/site-packages (from -r ../../../requirements.txt (line 47)) (2025.2)\n",
      "Requirement already satisfied: pyzmq==26.4.0 in /home/kosala/git-repos/predict-material-prices/env/lib64/python3.13/site-packages (from -r ../../../requirements.txt (line 48)) (26.4.0)\n",
      "Requirement already satisfied: referencing==0.36.2 in /home/kosala/git-repos/predict-material-prices/env/lib64/python3.13/site-packages (from -r ../../../requirements.txt (line 49)) (0.36.2)\n",
      "Requirement already satisfied: rpds-py==0.25.1 in /home/kosala/git-repos/predict-material-prices/env/lib64/python3.13/site-packages (from -r ../../../requirements.txt (line 50)) (0.25.1)\n",
      "Requirement already satisfied: scikit-learn==1.7.0 in /home/kosala/git-repos/predict-material-prices/env/lib64/python3.13/site-packages (from -r ../../../requirements.txt (line 51)) (1.7.0)\n",
      "Requirement already satisfied: scipy==1.15.3 in /home/kosala/git-repos/predict-material-prices/env/lib64/python3.13/site-packages (from -r ../../../requirements.txt (line 52)) (1.15.3)\n",
      "Requirement already satisfied: seaborn==0.13.2 in /home/kosala/git-repos/predict-material-prices/env/lib64/python3.13/site-packages (from -r ../../../requirements.txt (line 53)) (0.13.2)\n",
      "Requirement already satisfied: six==1.17.0 in /home/kosala/git-repos/predict-material-prices/env/lib64/python3.13/site-packages (from -r ../../../requirements.txt (line 54)) (1.17.0)\n",
      "Requirement already satisfied: stack-data==0.6.3 in /home/kosala/git-repos/predict-material-prices/env/lib64/python3.13/site-packages (from -r ../../../requirements.txt (line 55)) (0.6.3)\n",
      "Requirement already satisfied: stanio==0.5.1 in /home/kosala/git-repos/predict-material-prices/env/lib64/python3.13/site-packages (from -r ../../../requirements.txt (line 56)) (0.5.1)\n",
      "Requirement already satisfied: statsmodels==0.14.4 in /home/kosala/git-repos/predict-material-prices/env/lib64/python3.13/site-packages (from -r ../../../requirements.txt (line 57)) (0.14.4)\n",
      "Requirement already satisfied: threadpoolctl==3.6.0 in /home/kosala/git-repos/predict-material-prices/env/lib64/python3.13/site-packages (from -r ../../../requirements.txt (line 58)) (3.6.0)\n",
      "Requirement already satisfied: tornado==6.5.1 in /home/kosala/git-repos/predict-material-prices/env/lib64/python3.13/site-packages (from -r ../../../requirements.txt (line 59)) (6.5.1)\n",
      "Requirement already satisfied: tqdm==4.67.1 in /home/kosala/git-repos/predict-material-prices/env/lib64/python3.13/site-packages (from -r ../../../requirements.txt (line 60)) (4.67.1)\n",
      "Requirement already satisfied: traitlets==5.14.3 in /home/kosala/git-repos/predict-material-prices/env/lib64/python3.13/site-packages (from -r ../../../requirements.txt (line 61)) (5.14.3)\n",
      "Requirement already satisfied: tzdata==2025.2 in /home/kosala/git-repos/predict-material-prices/env/lib64/python3.13/site-packages (from -r ../../../requirements.txt (line 62)) (2025.2)\n",
      "Requirement already satisfied: wcwidth==0.2.13 in /home/kosala/git-repos/predict-material-prices/env/lib64/python3.13/site-packages (from -r ../../../requirements.txt (line 63)) (0.2.13)\n",
      "\n",
      "\u001b[1m[\u001b[0m\u001b[34;49mnotice\u001b[0m\u001b[1;39;49m]\u001b[0m\u001b[39;49m A new release of pip is available: \u001b[0m\u001b[31;49m24.3.1\u001b[0m\u001b[39;49m -> \u001b[0m\u001b[32;49m25.1.1\u001b[0m\n",
      "\u001b[1m[\u001b[0m\u001b[34;49mnotice\u001b[0m\u001b[1;39;49m]\u001b[0m\u001b[39;49m To update, run: \u001b[0m\u001b[32;49mpip install --upgrade pip\u001b[0m\n",
      "Note: you may need to restart the kernel to use updated packages.\n"
     ]
    }
   ],
   "source": [
    "%pip install -r ../../../requirements.txt"
   ]
  },
  {
   "cell_type": "code",
   "execution_count": 4,
   "id": "356f1742",
   "metadata": {},
   "outputs": [
    {
     "name": "stderr",
     "output_type": "stream",
     "text": [
      "/home/kosala/git-repos/predict-material-prices/env/lib64/python3.13/site-packages/tqdm/auto.py:21: TqdmWarning: IProgress not found. Please update jupyter and ipywidgets. See https://ipywidgets.readthedocs.io/en/stable/user_install.html\n",
      "  from .autonotebook import tqdm as notebook_tqdm\n"
     ]
    }
   ],
   "source": [
    "import pandas as pd\n",
    "from prophet import Prophet\n",
    "import matplotlib.pyplot as plt\n",
    "import seaborn as sns\n",
    "import numpy as np\n",
    "\n",
    "# import plotly graphing libraries\n",
    "import plotly.graph_objects as go\n",
    "from plotly.subplots import make_subplots\n",
    "import plotly.express as px\n",
    "\n",
    "from sklearn.metrics import mean_squared_error, mean_absolute_error\n",
    "import warnings\n",
    "warnings.filterwarnings(\"ignore\")\n",
    "\n",
    "plt.style.use('ggplot')\n",
    "plt.style.use('fivethirtyeight')"
   ]
  },
  {
   "cell_type": "code",
   "execution_count": 5,
   "id": "f5cc02ef",
   "metadata": {},
   "outputs": [],
   "source": [
    "# define the error functions\n",
    "def mean_absolute_percentage_error(t_true, y_predict):\n",
    "    \"\"\"\n",
    "    Calculate the Mean Absolute Percentage Error (MAPE)\n",
    "    \"\"\"\n",
    "    t_true, y_predict = np.array(t_true), np.array(y_predict)\n",
    "    return np.mean(np.abs((t_true - y_predict) / t_true)) * 100"
   ]
  },
  {
   "cell_type": "code",
   "execution_count": 6,
   "id": "80a53792",
   "metadata": {},
   "outputs": [],
   "source": [
    "# importing the dataset\n",
    "data_frame = pd.read_csv(\"../../../data/file.csv\")"
   ]
  },
  {
   "cell_type": "code",
   "execution_count": 7,
   "id": "7d83c5c4",
   "metadata": {},
   "outputs": [],
   "source": [
    "#filter data only for the last 10 years\n",
    "data_frame = data_frame[data_frame['Year'] >= 2010]"
   ]
  },
  {
   "cell_type": "code",
   "execution_count": 8,
   "id": "16a4f19a",
   "metadata": {},
   "outputs": [],
   "source": [
    "# Extract month number from Period column (M01 -> 1, M12 -> 12)\n",
    "data_frame['Month'] = data_frame['Period'].str.extract('M(\\\\d+)').astype(int)\n",
    "\n",
    "# Create a proper datetime index\n",
    "data_frame['Date'] = pd.to_datetime(data_frame[['Year', 'Month']].assign(Day=1))"
   ]
  },
  {
   "cell_type": "code",
   "execution_count": 9,
   "id": "8b495e76",
   "metadata": {},
   "outputs": [
    {
     "name": "stdout",
     "output_type": "stream",
     "text": [
      "Time series ranges from 2010-01-01 to 2025-04-01\n",
      "Number of data points: 184\n",
      "Min value: 133.3, Max value: 357.652, Mean value: 233.10\n",
      "\n",
      "First few values:\n",
      "Date\n",
      "2010-01-01    230.5\n",
      "2010-02-01    223.6\n",
      "2010-03-01    238.8\n",
      "2010-04-01    251.7\n",
      "2010-05-01    244.6\n",
      "Name: Value, dtype: float64\n",
      "\n",
      "Last few values:\n",
      "Date\n",
      "2024-12-01    315.277\n",
      "2025-01-01    319.281\n",
      "2025-02-01    326.443\n",
      "2025-03-01    354.496\n",
      "2025-04-01    350.272\n",
      "Name: Value, dtype: float64\n"
     ]
    }
   ],
   "source": [
    "# plotting the data to understand the trends and other components\n",
    "ts_data = data_frame.set_index('Date')['Value']\n",
    "\n",
    "# Display information about the time series\n",
    "print(f\"Time series ranges from {ts_data.index.min().strftime('%Y-%m-%d')} to {ts_data.index.max().strftime('%Y-%m-%d')}\")\n",
    "print(f\"Number of data points: {len(ts_data)}\")\n",
    "print(f\"Min value: {ts_data.min()}, Max value: {ts_data.max()}, Mean value: {ts_data.mean():.2f}\")\n",
    "\n",
    "# Show the first and last few values\n",
    "print(\"\\nFirst few values:\")\n",
    "print(ts_data.head())\n",
    "print(\"\\nLast few values:\")\n",
    "print(ts_data.tail())"
   ]
  },
  {
   "cell_type": "code",
   "execution_count": 10,
   "id": "54d14f5f",
   "metadata": {},
   "outputs": [
    {
     "data": {
      "image/png": "[encoded data removed]",
      "text/plain": [
       "<Figure size 1400x700 with 1 Axes>"
      ]
     },
     "metadata": {},
     "output_type": "display_data"
    }
   ],
   "source": [
    "data_frame = data_frame.set_index(\"Label\")\n",
    "\n",
    "# Create a proper time series plot\n",
    "plt.figure(figsize=(14, 7))\n",
    "plt.plot(ts_data.index, ts_data.values, color='#1f77b4', linewidth=2)\n",
    "\n",
    "# Enhance the plot with proper labels and formatting\n",
    "plt.title('Material Price Index Time Series (1960-2025)', fontsize=16, pad=20)\n",
    "plt.xlabel('Date', fontsize=14)\n",
    "plt.ylabel('Price Index', fontsize=14)\n",
    "plt.grid(True, alpha=0.3)\n",
    "plt.legend()\n",
    "\n",
    "# Add annotations for significant peaks or troughs\n",
    "top_peak = ts_data.idxmax()\n",
    "bottom_trough = ts_data.idxmin()\n",
    "\n",
    "plt.annotate(f'Peak: {ts_data.max():.1f}', \n",
    "            xy=(top_peak, ts_data.max()),\n",
    "            xytext=(10, 20),\n",
    "            textcoords='offset points',\n",
    "            arrowprops=dict(arrowstyle='->', connectionstyle='arc3,rad=.2'))\n",
    "\n",
    "plt.annotate(f'Trough: {ts_data.min():.1f}', \n",
    "            xy=(bottom_trough, ts_data.min()),\n",
    "            xytext=(10, -30),\n",
    "            textcoords='offset points',\n",
    "            arrowprops=dict(arrowstyle='->', connectionstyle='arc3,rad=-.2'))\n",
    "\n",
    "plt.tight_layout()\n",
    "plt.show()"
   ]
  },
  {
   "cell_type": "code",
   "execution_count": 11,
   "id": "efdeb12c",
   "metadata": {},
   "outputs": [],
   "source": [
    "data_frame = data_frame.rename(columns={\"Date\": \"ds\",\n",
    "                                        \"Value\": \"y\"})"
   ]
  },
  {
   "cell_type": "code",
   "execution_count": 12,
   "id": "a1d7edb7",
   "metadata": {},
   "outputs": [
    {
     "data": {
      "text/html": [
       "<div>\n",
       "<style scoped>\n",
       "    .dataframe tbody tr th:only-of-type {\n",
       "        vertical-align: middle;\n",
       "    }\n",
       "\n",
       "    .dataframe tbody tr th {\n",
       "        vertical-align: top;\n",
       "    }\n",
       "\n",
       "    .dataframe thead th {\n",
       "        text-align: right;\n",
       "    }\n",
       "</style>\n",
       "<table border=\"1\" class=\"dataframe\">\n",
       "  <thead>\n",
       "    <tr style=\"text-align: right;\">\n",
       "      <th></th>\n",
       "      <th>Series ID</th>\n",
       "      <th>Year</th>\n",
       "      <th>Period</th>\n",
       "      <th>y</th>\n",
       "      <th>Month</th>\n",
       "      <th>ds</th>\n",
       "    </tr>\n",
       "    <tr>\n",
       "      <th>Label</th>\n",
       "      <th></th>\n",
       "      <th></th>\n",
       "      <th></th>\n",
       "      <th></th>\n",
       "      <th></th>\n",
       "      <th></th>\n",
       "    </tr>\n",
       "  </thead>\n",
       "  <tbody>\n",
       "    <tr>\n",
       "      <th>2024 Dec</th>\n",
       "      <td>WPU102302</td>\n",
       "      <td>2024</td>\n",
       "      <td>M12</td>\n",
       "      <td>315.277</td>\n",
       "      <td>12</td>\n",
       "      <td>2024-12-01</td>\n",
       "    </tr>\n",
       "    <tr>\n",
       "      <th>2025 Jan</th>\n",
       "      <td>WPU102302</td>\n",
       "      <td>2025</td>\n",
       "      <td>M01</td>\n",
       "      <td>319.281</td>\n",
       "      <td>1</td>\n",
       "      <td>2025-01-01</td>\n",
       "    </tr>\n",
       "    <tr>\n",
       "      <th>2025 Feb</th>\n",
       "      <td>WPU102302</td>\n",
       "      <td>2025</td>\n",
       "      <td>M02</td>\n",
       "      <td>326.443</td>\n",
       "      <td>2</td>\n",
       "      <td>2025-02-01</td>\n",
       "    </tr>\n",
       "    <tr>\n",
       "      <th>2025 Mar</th>\n",
       "      <td>WPU102302</td>\n",
       "      <td>2025</td>\n",
       "      <td>M03</td>\n",
       "      <td>354.496</td>\n",
       "      <td>3</td>\n",
       "      <td>2025-03-01</td>\n",
       "    </tr>\n",
       "    <tr>\n",
       "      <th>2025 Apr</th>\n",
       "      <td>WPU102302</td>\n",
       "      <td>2025</td>\n",
       "      <td>M04</td>\n",
       "      <td>350.272</td>\n",
       "      <td>4</td>\n",
       "      <td>2025-04-01</td>\n",
       "    </tr>\n",
       "  </tbody>\n",
       "</table>\n",
       "</div>"
      ],
      "text/plain": [
       "          Series ID  Year Period        y  Month         ds\n",
       "Label                                                      \n",
       "2024 Dec  WPU102302  2024    M12  315.277     12 2024-12-01\n",
       "2025 Jan  WPU102302  2025    M01  319.281      1 2025-01-01\n",
       "2025 Feb  WPU102302  2025    M02  326.443      2 2025-02-01\n",
       "2025 Mar  WPU102302  2025    M03  354.496      3 2025-03-01\n",
       "2025 Apr  WPU102302  2025    M04  350.272      4 2025-04-01"
      ]
     },
     "execution_count": 12,
     "metadata": {},
     "output_type": "execute_result"
    }
   ],
   "source": [
    "data_frame.tail()"
   ]
  },
  {
   "cell_type": "code",
   "execution_count": 13,
   "id": "e54460a5",
   "metadata": {},
   "outputs": [],
   "source": [
    "# splitting the dataset into train and test sets\n",
    "train_data = data_frame[data_frame['ds'] < '2023-01-01']\n",
    "test_data = data_frame[data_frame['ds'] >= '2023-01-01']"
   ]
  },
  {
   "cell_type": "code",
   "execution_count": null,
   "id": "a7f4bf46",
   "metadata": {},
   "outputs": [],
   "source": [
    "# fitting the Prophet model using the training data\n",
    "# TODO: Add more parameters to the model (hyper parameter tuning)\n",
    "model = Prophet(seasonality_mode='additive')\n",
    "model.fit(train_data)"
   ]
  },
  {
   "cell_type": "code",
   "execution_count": 16,
   "id": "7d85b969",
   "metadata": {},
   "outputs": [],
   "source": [
    "model_test_forecast = model.predict(test_data)"
   ]
  },
  {
   "cell_type": "code",
   "execution_count": 17,
   "id": "995900c4",
   "metadata": {},
   "outputs": [
    {
     "data": {
      "text/html": [
       "<div>\n",
       "<style scoped>\n",
       "    .dataframe tbody tr th:only-of-type {\n",
       "        vertical-align: middle;\n",
       "    }\n",
       "\n",
       "    .dataframe tbody tr th {\n",
       "        vertical-align: top;\n",
       "    }\n",
       "\n",
       "    .dataframe thead th {\n",
       "        text-align: right;\n",
       "    }\n",
       "</style>\n",
       "<table border=\"1\" class=\"dataframe\">\n",
       "  <thead>\n",
       "    <tr style=\"text-align: right;\">\n",
       "      <th></th>\n",
       "      <th>ds</th>\n",
       "      <th>trend</th>\n",
       "      <th>yhat_lower</th>\n",
       "      <th>yhat_upper</th>\n",
       "      <th>trend_lower</th>\n",
       "      <th>trend_upper</th>\n",
       "      <th>additive_terms</th>\n",
       "      <th>additive_terms_lower</th>\n",
       "      <th>additive_terms_upper</th>\n",
       "      <th>yearly</th>\n",
       "      <th>yearly_lower</th>\n",
       "      <th>yearly_upper</th>\n",
       "      <th>multiplicative_terms</th>\n",
       "      <th>multiplicative_terms_lower</th>\n",
       "      <th>multiplicative_terms_upper</th>\n",
       "      <th>yhat</th>\n",
       "    </tr>\n",
       "  </thead>\n",
       "  <tbody>\n",
       "    <tr>\n",
       "      <th>0</th>\n",
       "      <td>2023-01-01</td>\n",
       "      <td>273.662770</td>\n",
       "      <td>234.844851</td>\n",
       "      <td>312.304732</td>\n",
       "      <td>273.662770</td>\n",
       "      <td>273.662770</td>\n",
       "      <td>0.442864</td>\n",
       "      <td>0.442864</td>\n",
       "      <td>0.442864</td>\n",
       "      <td>0.442864</td>\n",
       "      <td>0.442864</td>\n",
       "      <td>0.442864</td>\n",
       "      <td>0.0</td>\n",
       "      <td>0.0</td>\n",
       "      <td>0.0</td>\n",
       "      <td>274.105634</td>\n",
       "    </tr>\n",
       "    <tr>\n",
       "      <th>1</th>\n",
       "      <td>2023-02-01</td>\n",
       "      <td>276.007266</td>\n",
       "      <td>238.846187</td>\n",
       "      <td>313.667091</td>\n",
       "      <td>275.971806</td>\n",
       "      <td>276.037978</td>\n",
       "      <td>1.964936</td>\n",
       "      <td>1.964936</td>\n",
       "      <td>1.964936</td>\n",
       "      <td>1.964936</td>\n",
       "      <td>1.964936</td>\n",
       "      <td>1.964936</td>\n",
       "      <td>0.0</td>\n",
       "      <td>0.0</td>\n",
       "      <td>0.0</td>\n",
       "      <td>277.972203</td>\n",
       "    </tr>\n",
       "    <tr>\n",
       "      <th>2</th>\n",
       "      <td>2023-03-01</td>\n",
       "      <td>278.124876</td>\n",
       "      <td>263.344893</td>\n",
       "      <td>338.848252</td>\n",
       "      <td>278.017090</td>\n",
       "      <td>278.218930</td>\n",
       "      <td>21.929513</td>\n",
       "      <td>21.929513</td>\n",
       "      <td>21.929513</td>\n",
       "      <td>21.929513</td>\n",
       "      <td>21.929513</td>\n",
       "      <td>21.929513</td>\n",
       "      <td>0.0</td>\n",
       "      <td>0.0</td>\n",
       "      <td>0.0</td>\n",
       "      <td>300.054389</td>\n",
       "    </tr>\n",
       "    <tr>\n",
       "      <th>3</th>\n",
       "      <td>2023-04-01</td>\n",
       "      <td>280.469372</td>\n",
       "      <td>260.789037</td>\n",
       "      <td>334.462761</td>\n",
       "      <td>280.248807</td>\n",
       "      <td>280.625756</td>\n",
       "      <td>17.902910</td>\n",
       "      <td>17.902910</td>\n",
       "      <td>17.902910</td>\n",
       "      <td>17.902910</td>\n",
       "      <td>17.902910</td>\n",
       "      <td>17.902910</td>\n",
       "      <td>0.0</td>\n",
       "      <td>0.0</td>\n",
       "      <td>0.0</td>\n",
       "      <td>298.372282</td>\n",
       "    </tr>\n",
       "    <tr>\n",
       "      <th>4</th>\n",
       "      <td>2023-05-01</td>\n",
       "      <td>282.738239</td>\n",
       "      <td>258.039049</td>\n",
       "      <td>331.212849</td>\n",
       "      <td>282.380902</td>\n",
       "      <td>282.995954</td>\n",
       "      <td>10.449577</td>\n",
       "      <td>10.449577</td>\n",
       "      <td>10.449577</td>\n",
       "      <td>10.449577</td>\n",
       "      <td>10.449577</td>\n",
       "      <td>10.449577</td>\n",
       "      <td>0.0</td>\n",
       "      <td>0.0</td>\n",
       "      <td>0.0</td>\n",
       "      <td>293.187816</td>\n",
       "    </tr>\n",
       "  </tbody>\n",
       "</table>\n",
       "</div>"
      ],
      "text/plain": [
       "          ds       trend  yhat_lower  yhat_upper  trend_lower  trend_upper  \\\n",
       "0 2023-01-01  273.662770  234.844851  312.304732   273.662770   273.662770   \n",
       "1 2023-02-01  276.007266  238.846187  313.667091   275.971806   276.037978   \n",
       "2 2023-03-01  278.124876  263.344893  338.848252   278.017090   278.218930   \n",
       "3 2023-04-01  280.469372  260.789037  334.462761   280.248807   280.625756   \n",
       "4 2023-05-01  282.738239  258.039049  331.212849   282.380902   282.995954   \n",
       "\n",
       "   additive_terms  additive_terms_lower  additive_terms_upper     yearly  \\\n",
       "0        0.442864              0.442864              0.442864   0.442864   \n",
       "1        1.964936              1.964936              1.964936   1.964936   \n",
       "2       21.929513             21.929513             21.929513  21.929513   \n",
       "3       17.902910             17.902910             17.902910  17.902910   \n",
       "4       10.449577             10.449577             10.449577  10.449577   \n",
       "\n",
       "   yearly_lower  yearly_upper  multiplicative_terms  \\\n",
       "0      0.442864      0.442864                   0.0   \n",
       "1      1.964936      1.964936                   0.0   \n",
       "2     21.929513     21.929513                   0.0   \n",
       "3     17.902910     17.902910                   0.0   \n",
       "4     10.449577     10.449577                   0.0   \n",
       "\n",
       "   multiplicative_terms_lower  multiplicative_terms_upper        yhat  \n",
       "0                         0.0                         0.0  274.105634  \n",
       "1                         0.0                         0.0  277.972203  \n",
       "2                         0.0                         0.0  300.054389  \n",
       "3                         0.0                         0.0  298.372282  \n",
       "4                         0.0                         0.0  293.187816  "
      ]
     },
     "execution_count": 17,
     "metadata": {},
     "output_type": "execute_result"
    }
   ],
   "source": [
    "model_test_forecast.head()"
   ]
  },
  {
   "cell_type": "code",
   "execution_count": 18,
   "id": "215b442c",
   "metadata": {},
   "outputs": [
    {
     "data": {
      "image/png": "[encoded data removed]",
      "text/plain": [
       "<Figure size 1400x700 with 1 Axes>"
      ]
     },
     "metadata": {},
     "output_type": "display_data"
    }
   ],
   "source": [
    "# plot the forecast\n",
    "fig, ax = plt.subplots(figsize=(14, 7))\n",
    "fig = model.plot(model_test_forecast, ax=ax)\n",
    "plt.show()"
   ]
  },
  {
   "cell_type": "code",
   "execution_count": null,
   "id": "8605b365",
   "metadata": {},
   "outputs": [
    {
     "data": {
      "image/png": "[encoded data removed]",
      "text/plain": [
       "<Figure size 900x600 with 2 Axes>"
      ]
     },
     "metadata": {},
     "output_type": "display_data"
    }
   ],
   "source": [
    "# plotting the forecast components\n",
    "fig = model.plot_components(model_test_forecast)\n",
    "plt.show()"
   ]
  },
  {
   "cell_type": "code",
   "execution_count": 20,
   "id": "513c42f8",
   "metadata": {},
   "outputs": [
    {
     "data": {
      "application/vnd.plotly.v1+json": {
       "config": {
        "plotlyServerURL": "https://plot.ly"
       },
       "data": [
        {
         "hovertemplate": "<b>Historical</b><br>Date: %{x}<br>Value: %{y:.2f}<extra></extra>",
         "line": {
          "color": "lightblue",
          "width": 1
         },
         "marker": {
          "color": "lightblue",
          "size": 4
         },
         "mode": "lines+markers",
         "name": "Historical Data",
         "type": "scatter",
         "x": [
          "2010-01-01T00:00:00.000000000",
          "2010-02-01T00:00:00.000000000",
          "2010-03-01T00:00:00.000000000",
          "2010-04-01T00:00:00.000000000",
          "2010-05-01T00:00:00.000000000",
          "2010-06-01T00:00:00.000000000",
          "2010-07-01T00:00:00.000000000",
          "2010-08-01T00:00:00.000000000",
          "2010-09-01T00:00:00.000000000",
          "2010-10-01T00:00:00.000000000",
          "2010-11-01T00:00:00.000000000",
          "2010-12-01T00:00:00.000000000",
          "2011-01-01T00:00:00.000000000",
          "2011-02-01T00:00:00.000000000",
          "2011-03-01T00:00:00.000000000",
          "2011-04-01T00:00:00.000000000",
          "2011-05-01T00:00:00.000000000",
          "2011-06-01T00:00:00.000000000",
          "2011-07-01T00:00:00.000000000",
          "2011-08-01T00:00:00.000000000",
          "2011-09-01T00:00:00.000000000",
          "2011-10-01T00:00:00.000000000",
          "2011-11-01T00:00:00.000000000",
          "2011-12-01T00:00:00.000000000",
          "2012-01-01T00:00:00.000000000",
          "2012-02-01T00:00:00.000000000",
          "2012-03-01T00:00:00.000000000",
          "2012-04-01T00:00:00.000000000",
          "2012-05-01T00:00:00.000000000",
          "2012-06-01T00:00:00.000000000",
          "2012-07-01T00:00:00.000000000",
          "2012-08-01T00:00:00.000000000",
          "2012-09-01T00:00:00.000000000",
          "2012-10-01T00:00:00.000000000",
          "2012-11-01T00:00:00.000000000",
          "2012-12-01T00:00:00.000000000",
          "2013-01-01T00:00:00.000000000",
          "2013-02-01T00:00:00.000000000",
          "2013-03-01T00:00:00.000000000",
          "2013-04-01T00:00:00.000000000",
          "2013-05-01T00:00:00.000000000",
          "2013-06-01T00:00:00.000000000",
          "2013-07-01T00:00:00.000000000",
          "2013-08-01T00:00:00.000000000",
          "2013-09-01T00:00:00.000000000",
          "2013-10-01T00:00:00.000000000",
          "2013-11-01T00:00:00.000000000",
          "2013-12-01T00:00:00.000000000",
          "2014-01-01T00:00:00.000000000",
          "2014-02-01T00:00:00.000000000",
          "2014-03-01T00:00:00.000000000",
          "2014-04-01T00:00:00.000000000",
          "2014-05-01T00:00:00.000000000",
          "2014-06-01T00:00:00.000000000",
          "2014-07-01T00:00:00.000000000",
          "2014-08-01T00:00:00.000000000",
          "2014-09-01T00:00:00.000000000",
          "2014-10-01T00:00:00.000000000",
          "2014-11-01T00:00:00.000000000",
          "2014-12-01T00:00:00.000000000",
          "2015-01-01T00:00:00.000000000",
          "2015-02-01T00:00:00.000000000",
          "2015-03-01T00:00:00.000000000",
          "2015-04-01T00:00:00.000000000",
          "2015-05-01T00:00:00.000000000",
          "2015-06-01T00:00:00.000000000",
          "2015-07-01T00:00:00.000000000",
          "2015-08-01T00:00:00.000000000",
          "2015-09-01T00:00:00.000000000",
          "2015-10-01T00:00:00.000000000",
          "2015-11-01T00:00:00.000000000",
          "2015-12-01T00:00:00.000000000",
          "2016-01-01T00:00:00.000000000",
          "2016-02-01T00:00:00.000000000",
          "2016-03-01T00:00:00.000000000",
          "2016-04-01T00:00:00.000000000",
          "2016-05-01T00:00:00.000000000",
          "2016-06-01T00:00:00.000000000",
          "2016-07-01T00:00:00.000000000",
          "2016-08-01T00:00:00.000000000",
          "2016-09-01T00:00:00.000000000",
          "2016-10-01T00:00:00.000000000",
          "2016-11-01T00:00:00.000000000",
          "2016-12-01T00:00:00.000000000",
          "2017-01-01T00:00:00.000000000",
          "2017-02-01T00:00:00.000000000",
          "2017-03-01T00:00:00.000000000",
          "2017-04-01T00:00:00.000000000",
          "2017-05-01T00:00:00.000000000",
          "2017-06-01T00:00:00.000000000",
          "2017-07-01T00:00:00.000000000",
          "2017-08-01T00:00:00.000000000",
          "2017-09-01T00:00:00.000000000",
          "2017-10-01T00:00:00.000000000",
          "2017-11-01T00:00:00.000000000",
          "2017-12-01T00:00:00.000000000",
          "2018-01-01T00:00:00.000000000",
          "2018-02-01T00:00:00.000000000",
          "2018-03-01T00:00:00.000000000",
          "2018-04-01T00:00:00.000000000",
          "2018-05-01T00:00:00.000000000",
          "2018-06-01T00:00:00.000000000",
          "2018-07-01T00:00:00.000000000",
          "2018-08-01T00:00:00.000000000",
          "2018-09-01T00:00:00.000000000",
          "2018-10-01T00:00:00.000000000",
          "2018-11-01T00:00:00.000000000",
          "2018-12-01T00:00:00.000000000",
          "2019-01-01T00:00:00.000000000",
          "2019-02-01T00:00:00.000000000",
          "2019-03-01T00:00:00.000000000",
          "2019-04-01T00:00:00.000000000",
          "2019-05-01T00:00:00.000000000",
          "2019-06-01T00:00:00.000000000",
          "2019-07-01T00:00:00.000000000",
          "2019-08-01T00:00:00.000000000",
          "2019-09-01T00:00:00.000000000",
          "2019-10-01T00:00:00.000000000",
          "2019-11-01T00:00:00.000000000",
          "2019-12-01T00:00:00.000000000",
          "2020-01-01T00:00:00.000000000",
          "2020-02-01T00:00:00.000000000",
          "2020-03-01T00:00:00.000000000",
          "2020-04-01T00:00:00.000000000",
          "2020-05-01T00:00:00.000000000",
          "2020-06-01T00:00:00.000000000",
          "2020-07-01T00:00:00.000000000",
          "2020-08-01T00:00:00.000000000",
          "2020-09-01T00:00:00.000000000",
          "2020-10-01T00:00:00.000000000",
          "2020-11-01T00:00:00.000000000",
          "2020-12-01T00:00:00.000000000",
          "2021-01-01T00:00:00.000000000",
          "2021-02-01T00:00:00.000000000",
          "2021-03-01T00:00:00.000000000",
          "2021-04-01T00:00:00.000000000",
          "2021-05-01T00:00:00.000000000",
          "2021-06-01T00:00:00.000000000",
          "2021-07-01T00:00:00.000000000",
          "2021-08-01T00:00:00.000000000",
          "2021-09-01T00:00:00.000000000",
          "2021-10-01T00:00:00.000000000",
          "2021-11-01T00:00:00.000000000",
          "2021-12-01T00:00:00.000000000",
          "2022-01-01T00:00:00.000000000",
          "2022-02-01T00:00:00.000000000",
          "2022-03-01T00:00:00.000000000",
          "2022-04-01T00:00:00.000000000",
          "2022-05-01T00:00:00.000000000",
          "2022-06-01T00:00:00.000000000",
          "2022-07-01T00:00:00.000000000",
          "2022-08-01T00:00:00.000000000",
          "2022-09-01T00:00:00.000000000",
          "2022-10-01T00:00:00.000000000",
          "2022-11-01T00:00:00.000000000",
          "2022-12-01T00:00:00.000000000"
         ],
         "y": {
          "bdata": "AAAAAADQbEAzMzMzM/NrQJqZmZmZ2W1AZmZmZmZ2b0AzMzMzM5NuQGZmZmZmFmxAAAAAAACAa0BmZmZmZqZtQM3MzMzMXG5AMzMzMzMDcEAzMzMzM4NwQJqZmZmZkXBAZmZmZmaGcECamZmZmQlxQM3MzMzMfHFAmpmZmZnxcUAzMzMzMyNyQJqZmZmZiXFAAAAAAABQcUAzMzMzMxNxQAAAAAAAOHBAMzMzMzOzb0AAAAAAAIBuQDMzMzMzg21AAAAAAACQbUAzMzMzMyNuQDMzMzMzc29AMzMzMzPzbkAzMzMzMwNuQDMzMzMzY21AMzMzMzNTbEAAAAAAABBsQGZmZmZmBmxAAAAAAACAbUCamZmZmZltQAAAAAAAUG5AAAAAAAAgbkAzMzMzMyNuQJqZmZmZaW1AmpmZmZkJbUAAAAAAAJBsQM3MzMzMjGxAAAAAAABga0DNzMzMzIxrQGZmZmZmBmtAmpmZmZlJa0BmZmZmZhZrQGZmZmZmBmtAzczMzMyMa0AAAAAAAIBsQAAAAAAA4GxAMzMzMzOzbUAzMzMzM0NtQGZmZmZm5m1AAAAAAAAAb0AAAAAAAMBvQJqZmZmZ6W9AmpmZmZnpbkAzMzMzMxtwQAAAAAAAEHBAZmZmZmZWb0CamZmZmbluQAAAAAAAMG1AzczMzMxMbECamZmZmclrQGZmZmZmZmpAAAAAAAAQaUDNzMzMzBxoQAAAAAAAUGdAmpmZmZkJZ0AAAAAAAPBlQJqZmZmZyWVAzczMzMzMZUAzMzMzM1NmQDMzMzMzE2dAAAAAAAAwZ0DNzMzMzJxnQDMzMzMzQ2dAMzMzMzOjZ0AzMzMzM5NnQJqZmZmZOWdAzczMzMxsZ0DNzMzMzNxnQAAAAAAAUGhAAAAAAACwaEDNzMzMzMxpQAAAAAAAMGpAMzMzMzNzakCamZmZmalqQAAAAAAA8GlAMzMzMzPTaUAzMzMzMzNqQAAAAAAAsGpAmpmZmZkJa0BmZmZmZgZrQJqZmZmZ2WpAMzMzMzNDa0AAAAAAACBrQAAAAAAAYGxAMzMzMzNDbEDNzMzMzCxtQDMzMzMz421AmpmZmZmZbEBmZmZmZqZqQAAAAAAAYGlAzczMzMyMaEDNzMzMzPxnQJqZmZmZKWhAZmZmZmbGZ0BmZmZmZiZpQGZmZmZmdmpAMzMzMzMzaUAAAAAAAEBnQJqZmZmZ2WVAZmZmZmamZUCamZmZmUllQDMzMzMzs2RAMzMzMzMDZEAAAAAAAOBiQM3MzMzMzGJAAAAAAABAY0CamZmZmTljQJqZmZmZiWNAzczMzMwsZEAAAAAAAPBiQJqZmZmZqWBAZmZmZmbGYUCamZmZmSlhQDMzMzMzE2NAmpmZmZnpZEAAAAAAAHBlQAAAAAAAwGdAAAAAAABwakBmZmZmZtZqQAAAAAAAQGtAZmZmZmYWbECamZmZmVlwQJqZmZmZUXFAke18PzVkcUDufD81Xj5yQAwCK4cW6XFATmIQWDkgckDdJAaBlRdyQL6fGi/dFnJAH4XrUbhWckCuR+F6FNRyQDEIrBxaTnZA30+Nl25adkCamZmZmUl0QPLSTWIQ5nNAHVpkO9+rbUBmZmZmZhhwQNejcD0Kr25AVOOlm8RsbEApXI/C9UxsQLgehetRFG9A",
          "dtype": "f8"
         }
        },
        {
         "hovertemplate": "<b>Actual</b><br>Date: %{x}<br>Value: %{y:.2f}<extra></extra>",
         "marker": {
          "color": "blue",
          "size": 8
         },
         "mode": "markers",
         "name": "Actual Values",
         "type": "scatter",
         "x": [
          "2023-01-01T00:00:00.000000000",
          "2023-02-01T00:00:00.000000000",
          "2023-03-01T00:00:00.000000000",
          "2023-04-01T00:00:00.000000000",
          "2023-05-01T00:00:00.000000000",
          "2023-06-01T00:00:00.000000000",
          "2023-07-01T00:00:00.000000000",
          "2023-08-01T00:00:00.000000000",
          "2023-09-01T00:00:00.000000000",
          "2023-10-01T00:00:00.000000000",
          "2023-11-01T00:00:00.000000000",
          "2023-12-01T00:00:00.000000000",
          "2024-01-01T00:00:00.000000000",
          "2024-02-01T00:00:00.000000000",
          "2024-03-01T00:00:00.000000000",
          "2024-04-01T00:00:00.000000000",
          "2024-05-01T00:00:00.000000000",
          "2024-06-01T00:00:00.000000000",
          "2024-07-01T00:00:00.000000000",
          "2024-08-01T00:00:00.000000000",
          "2024-09-01T00:00:00.000000000",
          "2024-10-01T00:00:00.000000000",
          "2024-11-01T00:00:00.000000000",
          "2024-12-01T00:00:00.000000000",
          "2025-01-01T00:00:00.000000000",
          "2025-02-01T00:00:00.000000000",
          "2025-03-01T00:00:00.000000000",
          "2025-04-01T00:00:00.000000000"
         ],
         "y": {
          "bdata": "vHSTGATWb0AUrkfheghwQGZmZmZmFm9Aj8L1KFzvbkArhxbZzltvQIXrUbgetW9AYhBYObQIb0DTTWIQWGlvQIts5/up2W5AiUFg5dD2bkDVeOkmMchvQN0kBoGVKXBAAiuHFtkwcEAGgZVDi7ZwQBfZzvdThXBAHVpkO98DcUB1kxgEVmBzQFpkO99P83RA9ihcj8IldEAnMQisHJZyQM3MzMzMKHJApHA9CtcXc0AUrkfheqZzQN9PjZdutHNA0SLb+X70c0AMAiuHFmd0QA4tsp3vJ3ZAMQisHFrkdUA=",
          "dtype": "f8"
         }
        },
        {
         "hovertemplate": "<b>Predicted</b><br>Date: %{x}<br>Value: %{y:.2f}<extra></extra>",
         "line": {
          "color": "red",
          "width": 2
         },
         "marker": {
          "color": "red",
          "size": 6
         },
         "mode": "markers+lines",
         "name": "Predicted Values",
         "type": "scatter",
         "x": [
          "2023-01-01T00:00:00.000000000",
          "2023-02-01T00:00:00.000000000",
          "2023-03-01T00:00:00.000000000",
          "2023-04-01T00:00:00.000000000",
          "2023-05-01T00:00:00.000000000",
          "2023-06-01T00:00:00.000000000",
          "2023-07-01T00:00:00.000000000",
          "2023-08-01T00:00:00.000000000",
          "2023-09-01T00:00:00.000000000",
          "2023-10-01T00:00:00.000000000",
          "2023-11-01T00:00:00.000000000",
          "2023-12-01T00:00:00.000000000",
          "2024-01-01T00:00:00.000000000",
          "2024-02-01T00:00:00.000000000",
          "2024-03-01T00:00:00.000000000",
          "2024-04-01T00:00:00.000000000",
          "2024-05-01T00:00:00.000000000",
          "2024-06-01T00:00:00.000000000",
          "2024-07-01T00:00:00.000000000",
          "2024-08-01T00:00:00.000000000",
          "2024-09-01T00:00:00.000000000",
          "2024-10-01T00:00:00.000000000",
          "2024-11-01T00:00:00.000000000",
          "2024-12-01T00:00:00.000000000",
          "2025-01-01T00:00:00.000000000",
          "2025-02-01T00:00:00.000000000",
          "2025-03-01T00:00:00.000000000",
          "2025-04-01T00:00:00.000000000"
         ],
         "y": {
          "bdata": "37MarbAhcUDWaUEkjl9xQHy31cbewHJAuJiK3fSlckBxxSVLAVNyQLZIRrsMG3JAGZ67+3WmcUBiTHX3sSFyQBLpdgMKLXJAX7lhNE9WckD4fCrd+HVyQNySp1fUpHJA9ttGCbW2ckALVB+THMNyQN4AO13LYXNACNXQ1KPzc0BOw+wVoj50QBn/eAsxIXRAbfPuziHMc0Dei8VhHs1zQBWaJHkptHNAzirqnrfWc0Dqb18TJelzQMt7ZhPSYXRAmBuEgqfcdEDJt1h4coV1QNPGlAT6d3VA1b7iog7TdUA=",
          "dtype": "f8"
         }
        },
        {
         "hoverinfo": "skip",
         "line": {
          "color": "rgba(255,0,0,0.2)",
          "width": 0
         },
         "mode": "lines",
         "name": "Upper Confidence",
         "showlegend": false,
         "type": "scatter",
         "x": [
          "2023-01-01T00:00:00.000000000",
          "2023-02-01T00:00:00.000000000",
          "2023-03-01T00:00:00.000000000",
          "2023-04-01T00:00:00.000000000",
          "2023-05-01T00:00:00.000000000",
          "2023-06-01T00:00:00.000000000",
          "2023-07-01T00:00:00.000000000",
          "2023-08-01T00:00:00.000000000",
          "2023-09-01T00:00:00.000000000",
          "2023-10-01T00:00:00.000000000",
          "2023-11-01T00:00:00.000000000",
          "2023-12-01T00:00:00.000000000",
          "2024-01-01T00:00:00.000000000",
          "2024-02-01T00:00:00.000000000",
          "2024-03-01T00:00:00.000000000",
          "2024-04-01T00:00:00.000000000",
          "2024-05-01T00:00:00.000000000",
          "2024-06-01T00:00:00.000000000",
          "2024-07-01T00:00:00.000000000",
          "2024-08-01T00:00:00.000000000",
          "2024-09-01T00:00:00.000000000",
          "2024-10-01T00:00:00.000000000",
          "2024-11-01T00:00:00.000000000",
          "2024-12-01T00:00:00.000000000",
          "2025-01-01T00:00:00.000000000",
          "2025-02-01T00:00:00.000000000",
          "2025-03-01T00:00:00.000000000",
          "2025-04-01T00:00:00.000000000"
         ],
         "y": {
          "bdata": "CP/cLuCEc0DzvRtorJpzQHjdGXGSLXVA7ms6eGfndEAiCEbUZ7N0QNHT4VBLb3RAIxC6tWflc0BUHaFw3450QMUK4ujkYXRA/0WePKS1dEArFKIK7eF0QBmhihTd+HRALVpnLDb4dECldzPpfhJ1QNWvH2+A53VAdabOZkJpdkDO5JYIu4J2QBc3UPesoXZAxWPA2xALdkCHA5hbVBB2QN+7fNTHJnZAKM7uyhFAdkDVBcCxcDp2QKYJznm0uXZAiRW1KJMvd0CwPozSYv13QI+Zl3PCwndAOLBz/WYueEA=",
          "dtype": "f8"
         }
        },
        {
         "fill": "tonexty",
         "fillcolor": "rgba(255,0,0,0.2)",
         "hoverinfo": "skip",
         "line": {
          "color": "rgba(255,0,0,0.2)",
          "width": 0
         },
         "mode": "lines",
         "name": "Lower Confidence",
         "showlegend": false,
         "type": "scatter",
         "x": [
          "2023-01-01T00:00:00.000000000",
          "2023-02-01T00:00:00.000000000",
          "2023-03-01T00:00:00.000000000",
          "2023-04-01T00:00:00.000000000",
          "2023-05-01T00:00:00.000000000",
          "2023-06-01T00:00:00.000000000",
          "2023-07-01T00:00:00.000000000",
          "2023-08-01T00:00:00.000000000",
          "2023-09-01T00:00:00.000000000",
          "2023-10-01T00:00:00.000000000",
          "2023-11-01T00:00:00.000000000",
          "2023-12-01T00:00:00.000000000",
          "2024-01-01T00:00:00.000000000",
          "2024-02-01T00:00:00.000000000",
          "2024-03-01T00:00:00.000000000",
          "2024-04-01T00:00:00.000000000",
          "2024-05-01T00:00:00.000000000",
          "2024-06-01T00:00:00.000000000",
          "2024-07-01T00:00:00.000000000",
          "2024-08-01T00:00:00.000000000",
          "2024-09-01T00:00:00.000000000",
          "2024-10-01T00:00:00.000000000",
          "2024-11-01T00:00:00.000000000",
          "2024-12-01T00:00:00.000000000",
          "2025-01-01T00:00:00.000000000",
          "2025-02-01T00:00:00.000000000",
          "2025-03-01T00:00:00.000000000",
          "2025-04-01T00:00:00.000000000"
         ],
         "y": {
          "bdata": "/YjpBQlbbUBxhkj2E9ttQECY966EdXBA9KQY5Z9McEBx9krynyBwQKwQ9GQMx29AdKs43bseb0DHrJShZ8ZvQAUDT88vp29ACEyxNNfkb0Cu7DAe+gtwQEEGiLYSTHBAkN8NHQk2cED59koR6HJwQFusMTYr5XBAlRfd05yRcUBi8S7su9dxQPLbVgDF53FAG5+6FlB1cUBRmVRwS3lxQEwQf8LMbXFA3LwXdohucUAJckbSPphxQEjPC7s0GHJALVJSTreCckAT5QjazkhzQIVQ2Y1yL3NA8WzNMLuTc0A=",
          "dtype": "f8"
         }
        }
       ],
       "layout": {
        "height": 500,
        "hovermode": "x unified",
        "template": {
         "data": {
          "bar": [
           {
            "error_x": {
             "color": "#2a3f5f"
            },
            "error_y": {
             "color": "#2a3f5f"
            },
            "marker": {
             "line": {
              "color": "#E5ECF6",
              "width": 0.5
             },
             "pattern": {
              "fillmode": "overlay",
              "size": 10,
              "solidity": 0.2
             }
            },
            "type": "bar"
           }
          ],
          "barpolar": [
           {
            "marker": {
             "line": {
              "color": "#E5ECF6",
              "width": 0.5
             },
             "pattern": {
              "fillmode": "overlay",
              "size": 10,
              "solidity": 0.2
             }
            },
            "type": "barpolar"
           }
          ],
          "carpet": [
           {
            "aaxis": {
             "endlinecolor": "#2a3f5f",
             "gridcolor": "white",
             "linecolor": "white",
             "minorgridcolor": "white",
             "startlinecolor": "#2a3f5f"
            },
            "baxis": {
             "endlinecolor": "#2a3f5f",
             "gridcolor": "white",
             "linecolor": "white",
             "minorgridcolor": "white",
             "startlinecolor": "#2a3f5f"
            },
            "type": "carpet"
           }
          ],
          "choropleth": [
           {
            "colorbar": {
             "outlinewidth": 0,
             "ticks": ""
            },
            "type": "choropleth"
           }
          ],
          "contour": [
           {
            "colorbar": {
             "outlinewidth": 0,
             "ticks": ""
            },
            "colorscale": [
             [
              0,
              "#0d0887"
             ],
             [
              0.1111111111111111,
              "#46039f"
             ],
             [
              0.2222222222222222,
              "#7201a8"
             ],
             [
              0.3333333333333333,
              "#9c179e"
             ],
             [
              0.4444444444444444,
              "#bd3786"
             ],
             [
              0.5555555555555556,
              "#d8576b"
             ],
             [
              0.6666666666666666,
              "#ed7953"
             ],
             [
              0.7777777777777778,
              "#fb9f3a"
             ],
             [
              0.8888888888888888,
              "#fdca26"
             ],
             [
              1,
              "#f0f921"
             ]
            ],
            "type": "contour"
           }
          ],
          "contourcarpet": [
           {
            "colorbar": {
             "outlinewidth": 0,
             "ticks": ""
            },
            "type": "contourcarpet"
           }
          ],
          "heatmap": [
           {
            "colorbar": {
             "outlinewidth": 0,
             "ticks": ""
            },
            "colorscale": [
             [
              0,
              "#0d0887"
             ],
             [
              0.1111111111111111,
              "#46039f"
             ],
             [
              0.2222222222222222,
              "#7201a8"
             ],
             [
              0.3333333333333333,
              "#9c179e"
             ],
             [
              0.4444444444444444,
              "#bd3786"
             ],
             [
              0.5555555555555556,
              "#d8576b"
             ],
             [
              0.6666666666666666,
              "#ed7953"
             ],
             [
              0.7777777777777778,
              "#fb9f3a"
             ],
             [
              0.8888888888888888,
              "#fdca26"
             ],
             [
              1,
              "#f0f921"
             ]
            ],
            "type": "heatmap"
           }
          ],
          "histogram": [
           {
            "marker": {
             "pattern": {
              "fillmode": "overlay",
              "size": 10,
              "solidity": 0.2
             }
            },
            "type": "histogram"
           }
          ],
          "histogram2d": [
           {
            "colorbar": {
             "outlinewidth": 0,
             "ticks": ""
            },
            "colorscale": [
             [
              0,
              "#0d0887"
             ],
             [
              0.1111111111111111,
              "#46039f"
             ],
             [
              0.2222222222222222,
              "#7201a8"
             ],
             [
              0.3333333333333333,
              "#9c179e"
             ],
             [
              0.4444444444444444,
              "#bd3786"
             ],
             [
              0.5555555555555556,
              "#d8576b"
             ],
             [
              0.6666666666666666,
              "#ed7953"
             ],
             [
              0.7777777777777778,
              "#fb9f3a"
             ],
             [
              0.8888888888888888,
              "#fdca26"
             ],
             [
              1,
              "#f0f921"
             ]
            ],
            "type": "histogram2d"
           }
          ],
          "histogram2dcontour": [
           {
            "colorbar": {
             "outlinewidth": 0,
             "ticks": ""
            },
            "colorscale": [
             [
              0,
              "#0d0887"
             ],
             [
              0.1111111111111111,
              "#46039f"
             ],
             [
              0.2222222222222222,
              "#7201a8"
             ],
             [
              0.3333333333333333,
              "#9c179e"
             ],
             [
              0.4444444444444444,
              "#bd3786"
             ],
             [
              0.5555555555555556,
              "#d8576b"
             ],
             [
              0.6666666666666666,
              "#ed7953"
             ],
             [
              0.7777777777777778,
              "#fb9f3a"
             ],
             [
              0.8888888888888888,
              "#fdca26"
             ],
             [
              1,
              "#f0f921"
             ]
            ],
            "type": "histogram2dcontour"
           }
          ],
          "mesh3d": [
           {
            "colorbar": {
             "outlinewidth": 0,
             "ticks": ""
            },
            "type": "mesh3d"
           }
          ],
          "parcoords": [
           {
            "line": {
             "colorbar": {
              "outlinewidth": 0,
              "ticks": ""
             }
            },
            "type": "parcoords"
           }
          ],
          "pie": [
           {
            "automargin": true,
            "type": "pie"
           }
          ],
          "scatter": [
           {
            "fillpattern": {
             "fillmode": "overlay",
             "size": 10,
             "solidity": 0.2
            },
            "type": "scatter"
           }
          ],
          "scatter3d": [
           {
            "line": {
             "colorbar": {
              "outlinewidth": 0,
              "ticks": ""
             }
            },
            "marker": {
             "colorbar": {
              "outlinewidth": 0,
              "ticks": ""
             }
            },
            "type": "scatter3d"
           }
          ],
          "scattercarpet": [
           {
            "marker": {
             "colorbar": {
              "outlinewidth": 0,
              "ticks": ""
             }
            },
            "type": "scattercarpet"
           }
          ],
          "scattergeo": [
           {
            "marker": {
             "colorbar": {
              "outlinewidth": 0,
              "ticks": ""
             }
            },
            "type": "scattergeo"
           }
          ],
          "scattergl": [
           {
            "marker": {
             "colorbar": {
              "outlinewidth": 0,
              "ticks": ""
             }
            },
            "type": "scattergl"
           }
          ],
          "scattermap": [
           {
            "marker": {
             "colorbar": {
              "outlinewidth": 0,
              "ticks": ""
             }
            },
            "type": "scattermap"
           }
          ],
          "scattermapbox": [
           {
            "marker": {
             "colorbar": {
              "outlinewidth": 0,
              "ticks": ""
             }
            },
            "type": "scattermapbox"
           }
          ],
          "scatterpolar": [
           {
            "marker": {
             "colorbar": {
              "outlinewidth": 0,
              "ticks": ""
             }
            },
            "type": "scatterpolar"
           }
          ],
          "scatterpolargl": [
           {
            "marker": {
             "colorbar": {
              "outlinewidth": 0,
              "ticks": ""
             }
            },
            "type": "scatterpolargl"
           }
          ],
          "scatterternary": [
           {
            "marker": {
             "colorbar": {
              "outlinewidth": 0,
              "ticks": ""
             }
            },
            "type": "scatterternary"
           }
          ],
          "surface": [
           {
            "colorbar": {
             "outlinewidth": 0,
             "ticks": ""
            },
            "colorscale": [
             [
              0,
              "#0d0887"
             ],
             [
              0.1111111111111111,
              "#46039f"
             ],
             [
              0.2222222222222222,
              "#7201a8"
             ],
             [
              0.3333333333333333,
              "#9c179e"
             ],
             [
              0.4444444444444444,
              "#bd3786"
             ],
             [
              0.5555555555555556,
              "#d8576b"
             ],
             [
              0.6666666666666666,
              "#ed7953"
             ],
             [
              0.7777777777777778,
              "#fb9f3a"
             ],
             [
              0.8888888888888888,
              "#fdca26"
             ],
             [
              1,
              "#f0f921"
             ]
            ],
            "type": "surface"
           }
          ],
          "table": [
           {
            "cells": {
             "fill": {
              "color": "#EBF0F8"
             },
             "line": {
              "color": "white"
             }
            },
            "header": {
             "fill": {
              "color": "#C8D4E3"
             },
             "line": {
              "color": "white"
             }
            },
            "type": "table"
           }
          ]
         },
         "layout": {
          "annotationdefaults": {
           "arrowcolor": "#2a3f5f",
           "arrowhead": 0,
           "arrowwidth": 1
          },
          "autotypenumbers": "strict",
          "coloraxis": {
           "colorbar": {
            "outlinewidth": 0,
            "ticks": ""
           }
          },
          "colorscale": {
           "diverging": [
            [
             0,
             "#8e0152"
            ],
            [
             0.1,
             "#c51b7d"
            ],
            [
             0.2,
             "#de77ae"
            ],
            [
             0.3,
             "#f1b6da"
            ],
            [
             0.4,
             "#fde0ef"
            ],
            [
             0.5,
             "#f7f7f7"
            ],
            [
             0.6,
             "#e6f5d0"
            ],
            [
             0.7,
             "#b8e186"
            ],
            [
             0.8,
             "#7fbc41"
            ],
            [
             0.9,
             "#4d9221"
            ],
            [
             1,
             "#276419"
            ]
           ],
           "sequential": [
            [
             0,
             "#0d0887"
            ],
            [
             0.1111111111111111,
             "#46039f"
            ],
            [
             0.2222222222222222,
             "#7201a8"
            ],
            [
             0.3333333333333333,
             "#9c179e"
            ],
            [
             0.4444444444444444,
             "#bd3786"
            ],
            [
             0.5555555555555556,
             "#d8576b"
            ],
            [
             0.6666666666666666,
             "#ed7953"
            ],
            [
             0.7777777777777778,
             "#fb9f3a"
            ],
            [
             0.8888888888888888,
             "#fdca26"
            ],
            [
             1,
             "#f0f921"
            ]
           ],
           "sequentialminus": [
            [
             0,
             "#0d0887"
            ],
            [
             0.1111111111111111,
             "#46039f"
            ],
            [
             0.2222222222222222,
             "#7201a8"
            ],
            [
             0.3333333333333333,
             "#9c179e"
            ],
            [
             0.4444444444444444,
             "#bd3786"
            ],
            [
             0.5555555555555556,
             "#d8576b"
            ],
            [
             0.6666666666666666,
             "#ed7953"
            ],
            [
             0.7777777777777778,
             "#fb9f3a"
            ],
            [
             0.8888888888888888,
             "#fdca26"
            ],
            [
             1,
             "#f0f921"
            ]
           ]
          },
          "colorway": [
           "#636efa",
           "#EF553B",
           "#00cc96",
           "#ab63fa",
           "#FFA15A",
           "#19d3f3",
           "#FF6692",
           "#B6E880",
           "#FF97FF",
           "#FECB52"
          ],
          "font": {
           "color": "#2a3f5f"
          },
          "geo": {
           "bgcolor": "white",
           "lakecolor": "white",
           "landcolor": "#E5ECF6",
           "showlakes": true,
           "showland": true,
           "subunitcolor": "white"
          },
          "hoverlabel": {
           "align": "left"
          },
          "hovermode": "closest",
          "mapbox": {
           "style": "light"
          },
          "paper_bgcolor": "white",
          "plot_bgcolor": "#E5ECF6",
          "polar": {
           "angularaxis": {
            "gridcolor": "white",
            "linecolor": "white",
            "ticks": ""
           },
           "bgcolor": "#E5ECF6",
           "radialaxis": {
            "gridcolor": "white",
            "linecolor": "white",
            "ticks": ""
           }
          },
          "scene": {
           "xaxis": {
            "backgroundcolor": "#E5ECF6",
            "gridcolor": "white",
            "gridwidth": 2,
            "linecolor": "white",
            "showbackground": true,
            "ticks": "",
            "zerolinecolor": "white"
           },
           "yaxis": {
            "backgroundcolor": "#E5ECF6",
            "gridcolor": "white",
            "gridwidth": 2,
            "linecolor": "white",
            "showbackground": true,
            "ticks": "",
            "zerolinecolor": "white"
           },
           "zaxis": {
            "backgroundcolor": "#E5ECF6",
            "gridcolor": "white",
            "gridwidth": 2,
            "linecolor": "white",
            "showbackground": true,
            "ticks": "",
            "zerolinecolor": "white"
           }
          },
          "shapedefaults": {
           "line": {
            "color": "#2a3f5f"
           }
          },
          "ternary": {
           "aaxis": {
            "gridcolor": "white",
            "linecolor": "white",
            "ticks": ""
           },
           "baxis": {
            "gridcolor": "white",
            "linecolor": "white",
            "ticks": ""
           },
           "bgcolor": "#E5ECF6",
           "caxis": {
            "gridcolor": "white",
            "linecolor": "white",
            "ticks": ""
           }
          },
          "title": {
           "x": 0.05
          },
          "xaxis": {
           "automargin": true,
           "gridcolor": "white",
           "linecolor": "white",
           "ticks": "",
           "title": {
            "standoff": 15
           },
           "zerolinecolor": "white",
           "zerolinewidth": 2
          },
          "yaxis": {
           "automargin": true,
           "gridcolor": "white",
           "linecolor": "white",
           "ticks": "",
           "title": {
            "standoff": 15
           },
           "zerolinecolor": "white",
           "zerolinewidth": 2
          }
         }
        },
        "title": {
         "text": "Prophet Model: Historical Data, Actual vs Predicted Values"
        },
        "width": 1000,
        "xaxis": {
         "title": {
          "text": "Date"
         }
        },
        "yaxis": {
         "title": {
          "text": "Value"
         }
        }
       }
      }
     },
     "metadata": {},
     "output_type": "display_data"
    }
   ],
   "source": [
    "#plotting the forecasted values against the actual values\n",
    "fig = go.Figure()\n",
    "\n",
    "# Add historical training data\n",
    "fig.add_trace(go.Scatter(\n",
    "    x=train_data['ds'],\n",
    "    y=train_data['y'],\n",
    "    mode='lines+markers',\n",
    "    name='Historical Data',\n",
    "    marker=dict(color='lightblue', size=4),\n",
    "    line=dict(color='lightblue', width=1),\n",
    "    hovertemplate='<b>Historical</b><br>Date: %{x}<br>Value: %{y:.2f}<extra></extra>'\n",
    "))\n",
    "\n",
    "# Add actual values\n",
    "fig.add_trace(go.Scatter(\n",
    "    x=test_data['ds'],\n",
    "    y=test_data['y'],\n",
    "    mode='markers',\n",
    "    name='Actual Values',\n",
    "    marker=dict(color='blue', size=8),\n",
    "    hovertemplate='<b>Actual</b><br>Date: %{x}<br>Value: %{y:.2f}<extra></extra>'\n",
    "))\n",
    "\n",
    "# Add predicted values\n",
    "fig.add_trace(go.Scatter(\n",
    "    x=model_test_forecast['ds'],\n",
    "    y=model_test_forecast['yhat'],\n",
    "    mode='markers+lines',\n",
    "    name='Predicted Values',\n",
    "    marker=dict(color='red', size=6),\n",
    "    line=dict(color='red', width=2),\n",
    "    hovertemplate='<b>Predicted</b><br>Date: %{x}<br>Value: %{y:.2f}<extra></extra>'\n",
    "))\n",
    "\n",
    "# Add confidence intervals\n",
    "fig.add_trace(go.Scatter(\n",
    "    x=model_test_forecast['ds'],\n",
    "    y=model_test_forecast['yhat_upper'],\n",
    "    mode='lines',\n",
    "    name='Upper Confidence',\n",
    "    line=dict(color='rgba(255,0,0,0.2)', width=0),\n",
    "    showlegend=False,\n",
    "    hoverinfo='skip'\n",
    "))\n",
    "\n",
    "fig.add_trace(go.Scatter(\n",
    "    x=model_test_forecast['ds'],\n",
    "    y=model_test_forecast['yhat_lower'],\n",
    "    mode='lines',\n",
    "    name='Lower Confidence',\n",
    "    line=dict(color='rgba(255,0,0,0.2)', width=0),\n",
    "    fill='tonexty',\n",
    "    fillcolor='rgba(255,0,0,0.2)',\n",
    "    showlegend=False,\n",
    "    hoverinfo='skip'\n",
    "))\n",
    "\n",
    "# Update layout\n",
    "fig.update_layout(\n",
    "    title='Prophet Model: Historical Data, Actual vs Predicted Values',\n",
    "    xaxis_title='Date',\n",
    "    yaxis_title='Value',\n",
    "    width=1000,\n",
    "    height=500,\n",
    "    hovermode='x unified'\n",
    ")\n",
    "\n",
    "fig.show()"
   ]
  }
 ],
 "metadata": {
  "kernelspec": {
   "display_name": "env",
   "language": "python",
   "name": "python3"
  },
  "language_info": {
   "codemirror_mode": {
    "name": "ipython",
    "version": 3
   },
   "file_extension": ".py",
   "mimetype": "text/x-python",
   "name": "python",
   "nbconvert_exporter": "python",
   "pygments_lexer": "ipython3",
   "version": "3.13.3"
  }
 },
 "nbformat": 4,
 "nbformat_minor": 5
}
